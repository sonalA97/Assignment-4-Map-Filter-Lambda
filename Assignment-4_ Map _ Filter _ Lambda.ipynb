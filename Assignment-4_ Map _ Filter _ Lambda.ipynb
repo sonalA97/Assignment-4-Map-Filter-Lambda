{
 "cells": [
  {
   "cell_type": "code",
   "execution_count": 2,
   "id": "4b96ec3e",
   "metadata": {},
   "outputs": [
    {
     "name": "stdout",
     "output_type": "stream",
     "text": [
      "enter numbers: 56\n",
      "81\n"
     ]
    }
   ],
   "source": [
    "#Write a Python program to create a lambda function that adds 25 to a given number passed in as an argument.\n",
    "\n",
    "a=lambda x: x+25\n",
    "b = a(int(input(\"enter the numbers: \")))\n",
    "print(b)"
   ]
  },
  {
   "cell_type": "code",
   "execution_count": 24,
   "id": "9355749a",
   "metadata": {},
   "outputs": [
    {
     "name": "stdout",
     "output_type": "stream",
     "text": [
      "1 2 3 4 5 6 7\n",
      "3\n",
      "6\n",
      "9\n",
      "12\n",
      "15\n",
      "18\n",
      "21\n"
     ]
    }
   ],
   "source": [
    "#Write a Python program to triple all numbers of a given list of integers. Use Python map.\n",
    "\n",
    "\n",
    "a=list(map(int,input().split()))\n",
    "num = map(lambda x: x*3, a)\n",
    "for a in num:\n",
    "    print(a)"
   ]
  },
  {
   "cell_type": "code",
   "execution_count": 27,
   "id": "1b4f46c2",
   "metadata": {},
   "outputs": [
    {
     "name": "stdout",
     "output_type": "stream",
     "text": [
      "6 5 76 65 45 6444\n",
      "36\n",
      "25\n",
      "5776\n",
      "4225\n",
      "2025\n",
      "41525136\n"
     ]
    }
   ],
   "source": [
    "# Write a Python program to square the elements of a list using map() function.\n",
    "\n",
    "\n",
    "\n",
    "a=list(map(int,input().split()))\n",
    "num_square = map(lambda x: x**2, a)\n",
    "for a in num_square:\n",
    "    print(a)"
   ]
  },
  {
   "cell_type": "code",
   "execution_count": null,
   "id": "59840c72",
   "metadata": {},
   "outputs": [],
   "source": []
  }
 ],
 "metadata": {
  "kernelspec": {
   "display_name": "Python 3 (ipykernel)",
   "language": "python",
   "name": "python3"
  },
  "language_info": {
   "codemirror_mode": {
    "name": "ipython",
    "version": 3
   },
   "file_extension": ".py",
   "mimetype": "text/x-python",
   "name": "python",
   "nbconvert_exporter": "python",
   "pygments_lexer": "ipython3",
   "version": "3.10.5"
  }
 },
 "nbformat": 4,
 "nbformat_minor": 5
}
